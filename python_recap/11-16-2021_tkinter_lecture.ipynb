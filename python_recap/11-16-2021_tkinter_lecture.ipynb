{
 "cells": [
  {
   "cell_type": "markdown",
   "metadata": {},
   "source": [
    "# Tkinter lecture"
   ]
  },
  {
   "cell_type": "code",
   "execution_count": 2,
   "metadata": {},
   "outputs": [],
   "source": [
    "# import tkinter\n",
    "from tkinter import *"
   ]
  },
  {
   "cell_type": "markdown",
   "metadata": {},
   "source": [
    "## Initiate GUI"
   ]
  },
  {
   "cell_type": "code",
   "execution_count": 3,
   "metadata": {},
   "outputs": [],
   "source": [
    "root = Tk()\n",
    "\n",
    "# Creating a Label Widget\n",
    "myLabel = Label(root, text = \"hello dude\")\n",
    "# shoving it onto the screen\n",
    "myLabel.pack()\n",
    "root.mainloop()"
   ]
  },
  {
   "cell_type": "markdown",
   "metadata": {},
   "source": [
    "## Testing multi labels"
   ]
  },
  {
   "cell_type": "code",
   "execution_count": 8,
   "metadata": {},
   "outputs": [],
   "source": [
    "root = Tk()\n",
    "myLabel1 = Label(root, text=\"Hello dude!\")\n",
    "myLabel2 = Label(root, text = \"My name is Joon\")\n",
    "myLabel3 = Label(root, text = \"       \")\n",
    "\n",
    "myLabel1.grid(row=0,column=0)\n",
    "myLabel2.grid(row=1,column=2)\n",
    "myLabel3.grid(row=1,column=1)\n",
    "root.mainloop()"
   ]
  },
  {
   "cell_type": "markdown",
   "metadata": {},
   "source": [
    "## Making buttons"
   ]
  },
  {
   "cell_type": "code",
   "execution_count": 20,
   "metadata": {},
   "outputs": [],
   "source": [
    "# initiate\n",
    "root = Tk()\n",
    "\n",
    "# state = \"disabled\" gives disabled button\n",
    "# padx = length of button\n",
    "# pady = hegiht of button\n",
    "# fg = color of the text\n",
    "myButton = Button(root, text=\"Click Me!\", state=\"disabled\",padx=20, pady=20, fg = \"white\", bg=\"red\")\n",
    "myButton.pack()\n",
    "\n",
    "# call by window\n",
    "root.mainloop()"
   ]
  },
  {
   "cell_type": "code",
   "execution_count": 24,
   "metadata": {},
   "outputs": [
    {
     "ename": "NameError",
     "evalue": "name 'button_add' is not defined",
     "output_type": "error",
     "traceback": [
      "\u001b[1;31m---------------------------------------------------------------------------\u001b[0m",
      "\u001b[1;31mNameError\u001b[0m                                 Traceback (most recent call last)",
      "\u001b[1;32m~\\AppData\\Local\\Temp/ipykernel_21760/3272305482.py\u001b[0m in \u001b[0;36m<module>\u001b[1;34m\u001b[0m\n\u001b[0;32m      7\u001b[0m \u001b[1;33m\u001b[0m\u001b[0m\n\u001b[0;32m      8\u001b[0m \u001b[0mmyButton\u001b[0m \u001b[1;33m=\u001b[0m \u001b[0mButton\u001b[0m\u001b[1;33m(\u001b[0m\u001b[0mroot\u001b[0m\u001b[1;33m,\u001b[0m \u001b[0mtext\u001b[0m\u001b[1;33m=\u001b[0m\u001b[1;34m\"Click Me!\"\u001b[0m\u001b[1;33m,\u001b[0m \u001b[0mpadx\u001b[0m\u001b[1;33m=\u001b[0m\u001b[1;36m20\u001b[0m\u001b[1;33m,\u001b[0m \u001b[0mpady\u001b[0m\u001b[1;33m=\u001b[0m\u001b[1;36m20\u001b[0m\u001b[1;33m,\u001b[0m \u001b[0mcommand\u001b[0m\u001b[1;33m=\u001b[0m\u001b[0mmyClick\u001b[0m\u001b[1;33m,\u001b[0m\u001b[0mfg\u001b[0m \u001b[1;33m=\u001b[0m \u001b[1;34m\"blue\"\u001b[0m\u001b[1;33m)\u001b[0m\u001b[1;33m\u001b[0m\u001b[1;33m\u001b[0m\u001b[0m\n\u001b[1;32m----> 9\u001b[1;33m \u001b[0mmyButton1\u001b[0m \u001b[1;33m=\u001b[0m \u001b[0mButton\u001b[0m\u001b[1;33m(\u001b[0m\u001b[0mroot\u001b[0m\u001b[1;33m,\u001b[0m \u001b[0mtext\u001b[0m\u001b[1;33m=\u001b[0m\u001b[1;34m\"Click Me!\"\u001b[0m\u001b[1;33m,\u001b[0m \u001b[0mpadx\u001b[0m\u001b[1;33m=\u001b[0m\u001b[1;36m20\u001b[0m\u001b[1;33m,\u001b[0m \u001b[0mpady\u001b[0m\u001b[1;33m=\u001b[0m\u001b[1;36m20\u001b[0m\u001b[1;33m,\u001b[0m \u001b[0mcommand\u001b[0m\u001b[1;33m=\u001b[0m\u001b[0mbutton_add\u001b[0m\u001b[1;33m)\u001b[0m\u001b[1;33m\u001b[0m\u001b[1;33m\u001b[0m\u001b[0m\n\u001b[0m\u001b[0;32m     10\u001b[0m \u001b[1;33m\u001b[0m\u001b[0m\n\u001b[0;32m     11\u001b[0m \u001b[0mmyButton\u001b[0m\u001b[1;33m.\u001b[0m\u001b[0mpack\u001b[0m\u001b[1;33m(\u001b[0m\u001b[1;33m)\u001b[0m\u001b[1;33m\u001b[0m\u001b[1;33m\u001b[0m\u001b[0m\n",
      "\u001b[1;31mNameError\u001b[0m: name 'button_add' is not defined"
     ]
    }
   ],
   "source": [
    "# initiate\n",
    "root = Tk()\n",
    "\n",
    "def myClick():\n",
    "    myLabel = Label(root, text=\"Look! I clicked a Button!!\")\n",
    "    myLabel.pack()\n",
    "\n",
    "myButton = Button(root, text=\"Click Me!\", padx=20, pady=20, command=myClick,fg = \"blue\")\n",
    "\n",
    "\n",
    "myButton.pack()\n",
    "\n",
    "# call by window\n",
    "root.mainloop()"
   ]
  },
  {
   "cell_type": "markdown",
   "metadata": {},
   "source": [
    "## Creating input fields (entry widget)"
   ]
  },
  {
   "cell_type": "code",
   "execution_count": 43,
   "metadata": {},
   "outputs": [],
   "source": [
    "# initiate\n",
    "root = Tk()\n",
    "\n",
    "ewidg = Entry(root)\n",
    "ewidg.pack()\n",
    "ewidg.insert(0, \"Enter your Name: \")\n",
    "\n",
    "\n",
    "## Get the input and incorporate into button + output\n",
    "def myClick():\n",
    "    mellow = \"Hello \" + ewidg.get()\n",
    "    myLabel = Label(root, text = mellow)\n",
    "    myLabel.pack()\n",
    "\n",
    "myButton = Button(root, text=\"Enter your name\", padx=20, pady=20, command=myClick,fg = \"blue\")\n",
    "myButton.pack()\n",
    "\n",
    "# call by window\n",
    "root.mainloop()"
   ]
  },
  {
   "cell_type": "markdown",
   "metadata": {},
   "source": [
    "## Make a simple calculator (add only)"
   ]
  },
  {
   "cell_type": "code",
   "execution_count": 15,
   "metadata": {},
   "outputs": [],
   "source": [
    "# initiate\n",
    "root = Tk()\n",
    "root.title(\"Simple Calculator\")\n",
    "\n",
    "\n",
    "ewidg = Entry(root, width =35, borderwidth=5)\n",
    "ewidg.grid(row=0, column=0, columnspan=3, padx = 10, pady = 10)\n",
    "\n",
    "## Get the input and incorporate into button + output\n",
    "def button_click(number):\n",
    "    current = ewidg.get()\n",
    "    ewidg.delete(0,END)\n",
    "    ewidg.insert(0, str(current) + str(number))\n",
    "    return\n",
    "\n",
    "def button_clear():\n",
    "    ewidg.delete(0,END)\n",
    "\n",
    "\n",
    "def button_add():\n",
    "    first_number = ewidg.get()\n",
    "    global f_num\n",
    "    global math \n",
    "    f_num = int(first_number)\n",
    "    ewidg.delete(0,END)\n",
    "    math = \"addition\"\n",
    "    \n",
    "def button_div():\n",
    "    first_number = ewidg.get()\n",
    "    global f_num\n",
    "    global math \n",
    "    f_num = int(first_number)\n",
    "    ewidg.delete(0,END)\n",
    "    math = \"division\"\n",
    "\n",
    "def button_mult():\n",
    "    first_number = ewidg.get()\n",
    "    global f_num\n",
    "    global math \n",
    "    f_num = int(first_number)\n",
    "    ewidg.delete(0,END)\n",
    "    math = \"multiplication\"\n",
    "\n",
    "def button_sub():\n",
    "    first_number = ewidg.get()\n",
    "    global f_num\n",
    "    global math \n",
    "    f_num = int(first_number)\n",
    "    ewidg.delete(0,END)\n",
    "    math = \"subtraction\"\n",
    "    \n",
    "def button_equal():\n",
    "    second_number = ewidg.get()\n",
    "    ewidg.delete(0,END)\n",
    "    if math == \"addition\":\n",
    "        final_number = int(second_number) + int(f_num)\n",
    "        ewidg.insert(0, final_number)\n",
    "            \n",
    "    if math ==\"subtraction\":\n",
    "        final_number = int(f_num) - int(second_number)\n",
    "        ewidg.insert(0, final_number)\n",
    "            \n",
    "    if math == \"multiplication\":\n",
    "        final_number = f_num * int(second_number)\n",
    "        ewidg.insert(0, final_number)\n",
    "            \n",
    "    if math ==\"division\":\n",
    "        final_number = (int(f_num) / int(second_number))\n",
    "        ewidg.insert(0, final_number)\n",
    "        \n",
    "\n",
    "\n",
    "button_1 = Button(root, text=\"1\", padx=40,pady=30, command =lambda: button_click(1))\n",
    "button_2 = Button(root, text=\"2\", padx=40,pady=30, command =lambda: button_click(2))\n",
    "button_3 = Button(root, text=\"3\", padx=40,pady=30, command =lambda: button_click(3))\n",
    "button_4 = Button(root, text=\"4\", padx=40,pady=30, command =lambda: button_click(4))\n",
    "button_5 = Button(root, text=\"5\", padx=40,pady=30, command =lambda: button_click(5))\n",
    "button_6 = Button(root, text=\"6\", padx=40,pady=30, command =lambda: button_click(6))\n",
    "button_7 = Button(root, text=\"7\", padx=40,pady=30, command =lambda: button_click(7))\n",
    "button_8 = Button(root, text=\"8\", padx=40,pady=30, command =lambda: button_click(8))\n",
    "button_9 = Button(root, text=\"9\", padx=40,pady=30, command =lambda: button_click(9))\n",
    "button_0 = Button(root, text=\"0\", padx=40,pady=30, command =lambda: button_click(0))\n",
    "\n",
    "button_plus = Button(root, text=\"+\", padx=89,pady=30, command =button_add)\n",
    "button_equal = Button(root, text=\"=\", padx=40,pady=79, command =button_equal)\n",
    "button_clear = Button(root, text=\"C\", padx=40,pady=30, command =button_clear)\n",
    "\n",
    "button_sub = Button(root, text=\"-\", padx=40,pady=30, command =button_sub)\n",
    "button_div = Button(root, text=\"/\", padx=40,pady=30, command =button_div)\n",
    "button_mult = Button(root, text=\"*\", padx=40,pady=30, command =button_mult)\n",
    "\n",
    "\n",
    "# put the buttons on the screen\n",
    "button_1.grid(row= 3, column= 0)\n",
    "button_2.grid(row= 3, column= 1)\n",
    "button_3.grid(row= 3, column= 2)\n",
    "button_4.grid(row= 2, column= 0)\n",
    "button_5.grid(row= 2, column= 1)\n",
    "button_6.grid(row= 2, column= 2)\n",
    "button_7.grid(row= 1, column= 0)\n",
    "button_8.grid(row= 1, column= 1)\n",
    "button_9.grid(row= 1, column= 2)\n",
    "button_0.grid(row= 4, column= 0)\n",
    "\n",
    "button_equal.grid(row=4 , column=2, rowspan = 2 )\n",
    "button_clear.grid(row=4 , column=1)\n",
    "button_plus.grid(row=5 , column=0, columnspan = 2 )\n",
    "\n",
    "button_sub.grid(row= 6, column= 2)\n",
    "button_mult.grid(row= 6, column= 1)\n",
    "button_div.grid(row= 6, column= 0)\n",
    "\n",
    "# call by window\n",
    "root.mainloop()"
   ]
  }
 ],
 "metadata": {
  "interpreter": {
   "hash": "89104878b33c48eb0c50ad2efcce723266e1d6e473853ee74cba36ebb232c06f"
  },
  "kernelspec": {
   "display_name": "Python 3.9.7 64-bit ('udemy': conda)",
   "language": "python",
   "name": "python3"
  },
  "language_info": {
   "codemirror_mode": {
    "name": "ipython",
    "version": 3
   },
   "file_extension": ".py",
   "mimetype": "text/x-python",
   "name": "python",
   "nbconvert_exporter": "python",
   "pygments_lexer": "ipython3",
   "version": "3.9.7"
  },
  "orig_nbformat": 4
 },
 "nbformat": 4,
 "nbformat_minor": 2
}
